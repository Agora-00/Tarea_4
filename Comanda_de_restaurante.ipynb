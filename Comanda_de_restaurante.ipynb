{
  "nbformat": 4,
  "nbformat_minor": 0,
  "metadata": {
    "colab": {
      "name": "Comanda_de_restaurante.ipynb",
      "provenance": []
    },
    "kernelspec": {
      "name": "python3",
      "display_name": "Python 3"
    },
    "language_info": {
      "name": "python"
    }
  },
  "cells": [
    {
      "cell_type": "code",
      "metadata": {
        "colab": {
          "base_uri": "https://localhost:8080/"
        },
        "id": "SDR5VedcN30D",
        "outputId": "fe3f3e4b-497a-4c0b-dbf9-96a397874634"
      },
      "source": [
        "\n",
        "def menu_select(**datos):\n",
        "    for x,y in datos.items():\n",
        "        print(f\"{ '' .center(4,' ')}{x}:{y}\")\n",
        "    \n",
        "\n",
        "menu_select (mesa=3,comensal=2,entrada=\"Ensalada verde\", medio=\"Crema de zanahoria\",fuerte=\"filete\" ,\n",
        "             adicionales=\"Filete término medio, la ensalada sin ningun tipo de semilla, aderezo Ranch\")\n",
        "\n"
      ],
      "execution_count": 1,
      "outputs": [
        {
          "output_type": "stream",
          "name": "stdout",
          "text": [
            "    mesa:3\n",
            "    comensal:2\n",
            "    entrada:Ensalada verde\n",
            "    medio:Crema de zanahoria\n",
            "    fuerte:filete\n",
            "    adicionales:Filete término medio, la ensalada sin ningun tipo de semilla, aderezo Ranch\n"
          ]
        }
      ]
    }
  ]
}